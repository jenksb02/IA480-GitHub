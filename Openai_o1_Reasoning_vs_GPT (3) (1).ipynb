{
 "cells": [
  {
   "cell_type": "markdown",
   "id": "a7f7f8f4-d37f-4886-ad2f-9a1d9661bd1b",
   "metadata": {},
   "source": [
    "# Analyzing Data and Interpreting Images with OpenAI's o1 Reasoning Model vs. GPT"
   ]
  },
  {
   "cell_type": "markdown",
   "id": "271a830d-95fd-4bb0-8156-f4ce5ee41f95",
   "metadata": {},
   "source": [
    "## Introduction\n",
    "OpenAI's o1 reasoning model is designed for complex problem-solving, data analysis, and image interpretation by simulating a multi-step thought process before generating responses. Unlike traditional GPT models, which produce output in a single pass, reasoning models use internal **reasoning tokens** to explore multiple approaches before finalizing an answer.\n",
    "<p align=\"center\">\n",
    "    <img src=\"https://cdn.openai.com/API/images/guides/reasoning_tokens.png\" alt=\"Reasoning Tokens\" width=\"600\">\n",
    "</p>  \n",
    "\n",
    "*Source: [OpenAI Reasoning Models Guide](https://platform.openai.com/docs/guides/reasoning)*\n",
    "\n",
    "**Key Differences: o1 Reasoning Model vs. GPT**\n",
    "- Multi-step reasoning: o1 evaluates different solutions before selecting the best response.\n",
    "- Deeper analytical capabilities: Optimized for complex data interpretation tasks.\n",
    "- Context-aware image analysis: Provides more structured and insightful image descriptions.\n",
    "- Reasoning Effort Control: Users can adjust the depth of reasoning (`low`, `medium`, `high`).\n",
    "\n",
    "\n",
    "For more details, refer to the [OpenAI Reasoning Models Guide](https://platform.openai.com/docs/guides/reasoning).\n"
   ]
  },
  {
   "cell_type": "markdown",
   "id": "aaa19529-a6a5-486b-802e-ddfb39fb85f1",
   "metadata": {},
   "source": [
    "## Purchase and Store API Key\n",
    "\n",
    "You need to **purchase** your [OpenAI](https://openai.com/) API key and store it securely, such as in **AWS Secrets Manager**.\n",
    "\n",
    "- **Key Name:** `api_key`  \n",
    "- **Key Value:** `<your OpenAI API key>`  \n",
    "- **Secret Name:** `openai`  "
   ]
  },
  {
   "cell_type": "markdown",
   "id": "5a126d9e-1487-4905-8cc0-5d55d1a06594",
   "metadata": {},
   "source": [
    "## Install Python Libraries\n",
    "\n",
    "- **openai**: Used to call `o1` and `GPT` models for data analysis and image interpretation."
   ]
  },
  {
   "cell_type": "code",
   "execution_count": 1,
   "id": "7f05dcb1-dab0-4a06-bf2b-c695a8d19d6d",
   "metadata": {},
   "outputs": [
    {
     "name": "stdout",
     "output_type": "stream",
     "text": [
      "Note: you may need to restart the kernel to use updated packages.\n"
     ]
    }
   ],
   "source": [
    "pip install openai -q"
   ]
  },
  {
   "cell_type": "markdown",
   "id": "ca255da8-7177-49e6-bff7-27501305b4f6",
   "metadata": {},
   "source": [
    "## Import Required Libraries\n",
    "\n",
    "The following libraries are used in this notebook:\n",
    "\n",
    "- **boto3**: AWS SDK for Python, used to interact with AWS services.\n",
    "- **json**: Standard Python library for handling JSON data.\n",
    "- **IPython.display**: Provides tools to display images, Markdown content, and other rich media in Jupyter Notebook.\n",
    "- **openai**: Used to call `o1` and `GPT` models for data analysis and image interpretation.\n",
    "- **pandas**: A powerful library for data manipulation and analysis.\n",
    "- **pprint**: Pretty prints data structures for better readability."
   ]
  },
  {
   "cell_type": "code",
   "execution_count": 2,
   "id": "5db0d630-749f-484e-8d01-79ec39e0e56e",
   "metadata": {
    "scrolled": true
   },
   "outputs": [],
   "source": [
    "import boto3\n",
    "import json\n",
    "from IPython.display import display, Image, Markdown\n",
    "from openai import OpenAI\n",
    "import pandas as pd\n",
    "from pprint import pprint"
   ]
  },
  {
   "cell_type": "markdown",
   "id": "ddd547f9-8c03-4673-a194-e71e01b38a3d",
   "metadata": {},
   "source": [
    "## Retrieve API Keys Securely from AWS Secrets Manager\n",
    "\n",
    "The following function, `get_secret()`, retrieves a secret from **AWS Secrets Manager**. This is a secure way to store and access sensitive credentials, such as API keys, without hardcoding them into the script"
   ]
  },
  {
   "cell_type": "code",
   "execution_count": 3,
   "id": "7fd3f543-0716-483c-88ce-b41f5fb418cb",
   "metadata": {},
   "outputs": [],
   "source": [
    "def get_secret(secret_name):\n",
    "    region_name = \"us-east-1\"\n",
    "\n",
    "    # Create a Secrets Manager client\n",
    "    session = boto3.session.Session()\n",
    "    client = session.client(\n",
    "        service_name='secretsmanager',\n",
    "        region_name=region_name\n",
    "    )\n",
    "\n",
    "    try:\n",
    "        get_secret_value_response = client.get_secret_value(\n",
    "            SecretId=secret_name\n",
    "        )\n",
    "    except ClientError as e:\n",
    "        raise e\n",
    "\n",
    "    secret = get_secret_value_response['SecretString']\n",
    "    \n",
    "    return json.loads(secret)"
   ]
  },
  {
   "cell_type": "markdown",
   "id": "e5711939-503e-44f6-bb28-0671c1131e26",
   "metadata": {},
   "source": [
    "## Initialize OpenAI Client\n",
    "\n",
    "The following code initializes the OpenAI client using a securely stored API key retrieved from AWS Secrets Manager."
   ]
  },
  {
   "cell_type": "code",
   "execution_count": 4,
   "id": "921be4e1-921f-4c84-b68d-fc72b435cc3a",
   "metadata": {
    "scrolled": true
   },
   "outputs": [],
   "source": [
    "client = OpenAI(api_key= get_secret('openai')['api_key'])"
   ]
  },
  {
   "cell_type": "markdown",
   "id": "860098d7-cfcc-4791-9b42-c526f8ff620a",
   "metadata": {},
   "source": [
    "## Load and Analyze the Diamonds Dataset\n",
    "\n",
    "This notebook uses the **diamonds dataset ([diamonds.csv](https://github.com/lbsocial/data-analysis-with-generative-ai/blob/main/diamonds.csv))**, which contains detailed attributes of diamonds, including weight, color, clarity, and price.\n",
    "\n",
    "One interesting pattern in the dataset is that **diamonds with \"IF\" (Internally Flawless) clarity tend to have the lowest average price** compared to other clarity grades. This observation is counterintuitive, as one might expect the highest-clarity diamonds to be the most expensive."
   ]
  },
  {
   "cell_type": "code",
   "execution_count": 5,
   "id": "ebef8c09-e485-4bea-b86b-275cce615b63",
   "metadata": {},
   "outputs": [
    {
     "data": {
      "text/html": [
       "<div>\n",
       "<style scoped>\n",
       "    .dataframe tbody tr th:only-of-type {\n",
       "        vertical-align: middle;\n",
       "    }\n",
       "\n",
       "    .dataframe tbody tr th {\n",
       "        vertical-align: top;\n",
       "    }\n",
       "\n",
       "    .dataframe thead th {\n",
       "        text-align: right;\n",
       "    }\n",
       "</style>\n",
       "<table border=\"1\" class=\"dataframe\">\n",
       "  <thead>\n",
       "    <tr style=\"text-align: right;\">\n",
       "      <th></th>\n",
       "      <th>IDNO</th>\n",
       "      <th>WEIGHT</th>\n",
       "      <th>COLOR</th>\n",
       "      <th>CLARITY</th>\n",
       "      <th>RATER</th>\n",
       "      <th>PRICE</th>\n",
       "    </tr>\n",
       "  </thead>\n",
       "  <tbody>\n",
       "    <tr>\n",
       "      <th>0</th>\n",
       "      <td>1</td>\n",
       "      <td>0.30</td>\n",
       "      <td>D</td>\n",
       "      <td>VS2</td>\n",
       "      <td>GIA</td>\n",
       "      <td>1302</td>\n",
       "    </tr>\n",
       "    <tr>\n",
       "      <th>1</th>\n",
       "      <td>2</td>\n",
       "      <td>0.30</td>\n",
       "      <td>E</td>\n",
       "      <td>VS1</td>\n",
       "      <td>GIA</td>\n",
       "      <td>1510</td>\n",
       "    </tr>\n",
       "    <tr>\n",
       "      <th>2</th>\n",
       "      <td>3</td>\n",
       "      <td>0.30</td>\n",
       "      <td>G</td>\n",
       "      <td>VVS1</td>\n",
       "      <td>GIA</td>\n",
       "      <td>1510</td>\n",
       "    </tr>\n",
       "    <tr>\n",
       "      <th>3</th>\n",
       "      <td>4</td>\n",
       "      <td>0.30</td>\n",
       "      <td>G</td>\n",
       "      <td>VS1</td>\n",
       "      <td>GIA</td>\n",
       "      <td>1260</td>\n",
       "    </tr>\n",
       "    <tr>\n",
       "      <th>4</th>\n",
       "      <td>5</td>\n",
       "      <td>0.31</td>\n",
       "      <td>D</td>\n",
       "      <td>VS1</td>\n",
       "      <td>GIA</td>\n",
       "      <td>1641</td>\n",
       "    </tr>\n",
       "  </tbody>\n",
       "</table>\n",
       "</div>"
      ],
      "text/plain": [
       "   IDNO  WEIGHT COLOR CLARITY RATER  PRICE\n",
       "0     1    0.30     D     VS2   GIA   1302\n",
       "1     2    0.30     E     VS1   GIA   1510\n",
       "2     3    0.30     G    VVS1   GIA   1510\n",
       "3     4    0.30     G     VS1   GIA   1260\n",
       "4     5    0.31     D     VS1   GIA   1641"
      ]
     },
     "execution_count": 5,
     "metadata": {},
     "output_type": "execute_result"
    }
   ],
   "source": [
    "df = pd.read_csv('diamonds.csv')\n",
    "data_json = df.to_json(orient=\"records\")\n",
    "df.head()"
   ]
  },
  {
   "cell_type": "markdown",
   "id": "44df8274-f532-4103-9b8a-a882aa23eb86",
   "metadata": {},
   "source": [
    "## Generate Data Analysis Prompt for OpenAI Model\n",
    "\n",
    "To investigate why diamonds with **IF (Internally Flawless) clarity** have the **lowest average price**, we generate a structured prompt for the OpenAI model. The model will analyze the dataset and generate insights, including **Python code for visualizations**.\n"
   ]
  },
  {
   "cell_type": "code",
   "execution_count": 6,
   "id": "09d7ac96-aef2-425c-91ae-6b004a3ccce3",
   "metadata": {},
   "outputs": [],
   "source": [
    "data_prompt = f\"Analyze the provided data and determine why diamonds with IF clarity have the lowest average price. Provide Python-generated charts to support your conclusion. Data: {data_json}\"\n",
    "# print(prompt)"
   ]
  },
  {
   "cell_type": "markdown",
   "id": "0e269bba-2c1a-47e9-9662-3542873fa8ce",
   "metadata": {},
   "source": [
    "## Define a Function to Get Assistance from OpenAI GPT-4o\n",
    "\n",
    "The following function, `openai_gpt_help()`, sends a prompt to OpenAI's **GPT-4o model** and returns a response. It also prints the number of tokens used in the request."
   ]
  },
  {
   "cell_type": "code",
   "execution_count": 7,
   "id": "8a02a837-a5c0-409e-92ce-7ae93e58c834",
   "metadata": {},
   "outputs": [],
   "source": [
    "def openai_gpt_help(prompt):\n",
    "    messages = [{\"role\": \"user\", \"content\": prompt}]\n",
    "    response = client.chat.completions.create(\n",
    "        model='gpt-4o',\n",
    "        messages=messages,\n",
    "        temperature = 0\n",
    "    )\n",
    "    token_usage = response.usage\n",
    "    \n",
    "    pprint(f\"Tokens used: {token_usage}\")\n",
    "\n",
    "    return response.choices[0].message.content"
   ]
  },
  {
   "cell_type": "code",
   "execution_count": 8,
   "id": "df292b10-8857-4902-b2e4-8dab5602d204",
   "metadata": {},
   "outputs": [
    {
     "name": "stdout",
     "output_type": "stream",
     "text": [
      "('Tokens used: CompletionUsage(completion_tokens=794, prompt_tokens=10574, '\n",
      " 'total_tokens=11368, '\n",
      " 'completion_tokens_details=CompletionTokensDetails(accepted_prediction_tokens=0, '\n",
      " 'audio_tokens=0, reasoning_tokens=0, rejected_prediction_tokens=0), '\n",
      " 'prompt_tokens_details=PromptTokensDetails(audio_tokens=0, cached_tokens=0))')\n"
     ]
    }
   ],
   "source": [
    "gpt_result = openai_gpt_help(prompt=data_prompt)"
   ]
  },
  {
   "cell_type": "code",
   "execution_count": 9,
   "id": "1360e35d-3dda-4447-8b5e-f58d16ad91d3",
   "metadata": {},
   "outputs": [
    {
     "data": {
      "text/markdown": [
       "To analyze why diamonds with IF (Internally Flawless) clarity have the lowest average price, we need to examine the dataset and compare the prices of diamonds with different clarity grades. We will use Python to perform this analysis and generate charts to visualize the data.\n",
       "\n",
       "First, let's load the data and perform some basic analysis:\n",
       "\n",
       "```python\n",
       "import pandas as pd\n",
       "import matplotlib.pyplot as plt\n",
       "import seaborn as sns\n",
       "\n",
       "# Load the data into a DataFrame\n",
       "data = [\n",
       "    {\"IDNO\": 1, \"WEIGHT\": 0.3, \"COLOR\": \"D\", \"CLARITY\": \"VS2\", \"RATER\": \"GIA\", \"PRICE\": 1302},\n",
       "    {\"IDNO\": 2, \"WEIGHT\": 0.3, \"COLOR\": \"E\", \"CLARITY\": \"VS1\", \"RATER\": \"GIA\", \"PRICE\": 1510},\n",
       "    # ... (rest of the data)\n",
       "    {\"IDNO\": 308, \"WEIGHT\": 1.09, \"COLOR\": \"I\", \"CLARITY\": \"VVS2\", \"RATER\": \"HRD\", \"PRICE\": 9107}\n",
       "]\n",
       "\n",
       "df = pd.DataFrame(data)\n",
       "\n",
       "# Calculate the average price for each clarity grade\n",
       "average_price_by_clarity = df.groupby('CLARITY')['PRICE'].mean().sort_values()\n",
       "\n",
       "# Plot the average price by clarity\n",
       "plt.figure(figsize=(10, 6))\n",
       "sns.barplot(x=average_price_by_clarity.index, y=average_price_by_clarity.values)\n",
       "plt.title('Average Price by Clarity')\n",
       "plt.xlabel('Clarity')\n",
       "plt.ylabel('Average Price')\n",
       "plt.show()\n",
       "```\n",
       "\n",
       "### Analysis\n",
       "\n",
       "1. **Average Price by Clarity**: The bar plot shows the average price for each clarity grade. If IF clarity diamonds have the lowest average price, it could be due to several factors:\n",
       "   - **Weight Distribution**: IF diamonds in the dataset might be of lower carat weight, which significantly affects the price.\n",
       "   - **Color and Rater Influence**: The color and the rater (GIA, IGI, HRD) might also influence the price. IF diamonds might be paired with less desirable colors or raters that typically have lower prices.\n",
       "   - **Sample Size and Distribution**: The number of IF diamonds in the dataset might be small, and their distribution across other factors like weight and color might skew the average price.\n",
       "\n",
       "2. **Weight and Color Influence**: Let's further analyze the weight and color distribution for IF diamonds:\n",
       "\n",
       "```python\n",
       "# Filter IF diamonds\n",
       "if_diamonds = df[df['CLARITY'] == 'IF']\n",
       "\n",
       "# Plot weight distribution for IF diamonds\n",
       "plt.figure(figsize=(10, 6))\n",
       "sns.histplot(if_diamonds['WEIGHT'], bins=10, kde=True)\n",
       "plt.title('Weight Distribution for IF Diamonds')\n",
       "plt.xlabel('Weight (Carats)')\n",
       "plt.ylabel('Frequency')\n",
       "plt.show()\n",
       "\n",
       "# Plot color distribution for IF diamonds\n",
       "plt.figure(figsize=(10, 6))\n",
       "sns.countplot(x='COLOR', data=if_diamonds)\n",
       "plt.title('Color Distribution for IF Diamonds')\n",
       "plt.xlabel('Color')\n",
       "plt.ylabel('Count')\n",
       "plt.show()\n",
       "```\n",
       "\n",
       "### Conclusion\n",
       "\n",
       "- **Weight Distribution**: If the weight distribution plot shows that IF diamonds are generally of lower carat weight, this could explain the lower average price.\n",
       "- **Color Distribution**: If the color distribution plot shows that IF diamonds are predominantly of lower color grades (e.g., H, I), this could also contribute to the lower average price.\n",
       "- **Rater Influence**: If IF diamonds are mostly rated by a rater that typically has lower prices, this could further explain the lower average price.\n",
       "\n",
       "By examining these factors, we can better understand why IF clarity diamonds have the lowest average price in this dataset."
      ],
      "text/plain": [
       "<IPython.core.display.Markdown object>"
      ]
     },
     "metadata": {},
     "output_type": "display_data"
    }
   ],
   "source": [
    "display(Markdown(gpt_result))"
   ]
  },
  {
   "cell_type": "markdown",
   "id": "c068efcc-c82a-40d8-8d5b-3939f2417a4e",
   "metadata": {},
   "source": [
    "## Define a Function to Get Assistance from OpenAI o1 Model  \n",
    "\n",
    "The following function, `openai_o_help()`, sends a prompt to OpenAI's **o1 reasoning model** and returns a response.  \n",
    "\n",
    "### Key Differences Between o1 and GPT Models:\n",
    "- **Reasoning Effort**: The o1 model allows users to control reasoning depth using `reasoning_effort` (`low`, `medium`, `high`).  \n",
    "- **No Temperature Parameter**: Unlike GPT models, **o1 does not support `temperature`**.  \n",
    "- **Developer Messages Replace System Messages**:  \n",
    "  - Starting with `o1-2024-12-17`, **developer messages** replace **system messages** to align with chain-of-command behavior.  \n",
    "\n",
    "### Best Practices for Prompting o1  \n",
    "- **Keep prompts simple and direct.**  \n",
    "- **Avoid chain-of-thought prompts.** o1 reasons internally, so step-by-step instructions aren't needed.  \n",
    "- **Use delimiters for clarity.** Use Markdown, XML tags, or section titles.  \n",
    "- **Try zero-shot first.** If needed, add few-shot examples that closely match your goal.  \n",
    "- **Be explicit.** Clearly define success criteria and constraints.  \n",
    "- **Markdown is disabled by default.** To enable, start with `\"Formatting re-enabled\"`.  \n",
    "\n",
    "Source: [OpenAI Reasoning Models Best Practices Guide](https://platform.openai.com/docs/guides/reasoning-best-practices).  \n"
   ]
  },
  {
   "cell_type": "code",
   "execution_count": 10,
   "id": "89f3d84b-b101-4299-b01a-ee4285c7608d",
   "metadata": {},
   "outputs": [],
   "source": [
    "def openai_o_help(prompt):\n",
    "    messages = [ {\"role\": \"user\", \"content\": prompt}]\n",
    "    response = client.chat.completions.create(\n",
    "        model='o1',\n",
    "        reasoning_effort=\"high\", # low, medium or high\n",
    "        messages=messages,\n",
    "\n",
    "    )\n",
    "    token_usage = response.usage\n",
    "    \n",
    "    pprint(f\"Tokens used: {token_usage}\")\n",
    "\n",
    "    return response.choices[0].message.content"
   ]
  },
  {
   "cell_type": "code",
   "execution_count": 11,
   "id": "c5fc9ef3-4510-4faf-995f-31a58134b9a5",
   "metadata": {},
   "outputs": [
    {
     "name": "stdout",
     "output_type": "stream",
     "text": [
      "('Tokens used: CompletionUsage(completion_tokens=3753, prompt_tokens=10573, '\n",
      " 'total_tokens=14326, '\n",
      " 'completion_tokens_details=CompletionTokensDetails(accepted_prediction_tokens=0, '\n",
      " 'audio_tokens=0, reasoning_tokens=2560, rejected_prediction_tokens=0), '\n",
      " 'prompt_tokens_details=PromptTokensDetails(audio_tokens=0, cached_tokens=0))')\n"
     ]
    }
   ],
   "source": [
    "o1_result = openai_o_help(prompt=data_prompt)"
   ]
  },
  {
   "cell_type": "code",
   "execution_count": 12,
   "id": "17ab95a7-ee31-49c7-b2ad-f77996be5e44",
   "metadata": {},
   "outputs": [
    {
     "name": "stdout",
     "output_type": "stream",
     "text": [
      "Below is a step-by-step illustration (in Python/pandas) of how one can arrive at the conclusion that the “IF” (Internally Flawless) diamonds in this dataset end up having a comparatively low average total price—not because IF clarity is “cheap,” but because most IF stones here are quite small in carat weight or have other characteristics (e.g. lab, color) that bring their total ticket price down. In reality, IF diamonds often command a high price once you account for size, color, cut, and lab.\n",
      "\n",
      "--------------------------------------------------------------------------------\n",
      "1. Load the data and compute the average price by clarity\n",
      "--------------------------------------------------------------------------------\n",
      "\n",
      "import pandas as pd\n",
      "import seaborn as sns\n",
      "import matplotlib.pyplot as plt\n",
      "\n",
      "# -- Paste the raw data into a list of dictionaries --\n",
      "data = [\n",
      "    {\"IDNO\":1,\"WEIGHT\":0.3,\"COLOR\":\"D\",\"CLARITY\":\"VS2\",\"RATER\":\"GIA\",\"PRICE\":1302},\n",
      "    {\"IDNO\":2,\"WEIGHT\":0.3,\"COLOR\":\"E\",\"CLARITY\":\"VS1\",\"RATER\":\"GIA\",\"PRICE\":1510},\n",
      "    {\"IDNO\":3,\"WEIGHT\":0.3,\"COLOR\":\"G\",\"CLARITY\":\"VVS1\",\"RATER\":\"GIA\",\"PRICE\":1510},\n",
      "    # ... etc. (paste all rows from your data) ...\n",
      "    {\"IDNO\":308,\"WEIGHT\":1.09,\"COLOR\":\"I\",\"CLARITY\":\"VVS2\",\"RATER\":\"HRD\",\"PRICE\":9107}\n",
      "]\n",
      "\n",
      "df = pd.DataFrame(data)\n",
      "\n",
      "# 1. Average price by clarity\n",
      "avg_price_by_clarity = df.groupby(\"CLARITY\")[\"PRICE\"].mean().reset_index()\n",
      "print(avg_price_by_clarity.sort_values(by=\"PRICE\"))\n",
      "\n",
      "Here, you will typically see something like “IF” near the lower end of the average “PRICE” column. That on its face is surprising, because IF is generally a higher clarity (hence typically more expensive) than VVS or VS.  \n",
      "\n",
      "--------------------------------------------------------------------------------\n",
      "2. Confirm that IF stones skew smaller or come from (e.g.) IGI-lab stones\n",
      "--------------------------------------------------------------------------------\n",
      "\n",
      "# 2a. Check how many IF diamonds we have, and their average weight\n",
      "if_diamonds = df[df[\"CLARITY\"] == \"IF\"]\n",
      "print(\"Number of IF diamonds:\", len(if_diamonds))\n",
      "print(\"Average carat weight of IF diamonds:\", if_diamonds[\"WEIGHT\"].mean())\n",
      "print(\"Average price of IF diamonds:\", if_diamonds[\"PRICE\"].mean())\n",
      "\n",
      "# 2b. Compare to, say, VVS1 diamonds\n",
      "vvs1_diamonds = df[df[\"CLARITY\"] == \"VVS1\"]\n",
      "print(\"Number of VVS1 diamonds:\", len(vvs1_diamonds))\n",
      "print(\"Average carat weight of VVS1 diamonds:\", vvs1_diamonds[\"WEIGHT\"].mean())\n",
      "print(\"Average price of VVS1 diamonds:\", vvs1_diamonds[\"PRICE\"].mean())\n",
      "\n",
      "Often, you will find that IF diamonds in this particular dataset tend to be lower-carat-weight stones or are predominantly from a less-expensive lab (e.g. IGI) or have lower color grades—lowering the total ticket price even though, on a per-carat basis, IF is actually quite valuable.\n",
      "\n",
      "--------------------------------------------------------------------------------\n",
      "3. Plot weight vs. price, colored by clarity\n",
      "--------------------------------------------------------------------------------\n",
      "\n",
      "plt.figure(figsize=(8,6))\n",
      "sns.scatterplot(\n",
      "    data=df,\n",
      "    x=\"WEIGHT\",\n",
      "    y=\"PRICE\",\n",
      "    hue=\"CLARITY\"\n",
      ")\n",
      "plt.title(\"Diamond Price vs. Weight, Colored by Clarity\")\n",
      "plt.xlabel(\"Carat Weight\")\n",
      "plt.ylabel(\"Price (USD)\")\n",
      "plt.legend(bbox_to_anchor=(1.02, 1), loc=\"upper left\")\n",
      "plt.tight_layout()\n",
      "plt.show()\n",
      "\n",
      "In the scatter plot, you will see that many of the IF (Internally Flawless) points lie at the lower weights (e.g. under 0.30 ct or 0.40 ct), which naturally pulls down their average overall diamond price. Meanwhile, other clarities (like VS1/VS2) in the dataset might include a larger share of 1.0 ct or near-1.0 ct stones, thus pushing up their average price.\n",
      "\n",
      "--------------------------------------------------------------------------------\n",
      "4. Conclusion\n",
      "--------------------------------------------------------------------------------\n",
      "\n",
      "• IF is the highest clarity grade, so (all else equal) IF diamonds should have a higher price per carat.  \n",
      "• In this dataset, however, most of the IF diamonds are small (< 0.3 ct) or come with lab reports from (for example) IGI rather than GIA, or have lower color grades.  \n",
      "• Because diamond prices depend strongly on carat weight (and also on color/lab fame), these lower-weight IF stones have a smaller total ticket price.  \n",
      "• Hence, if one simply groups by “CLARITY” and takes a raw average of total price, IF diamonds show a surprisingly low mean price—even though their per-carat price is not necessarily low.\n",
      "\n",
      "In short, the “lowest average price” for IF in this dataset is an artifact of composition: many small-carat or otherwise lower-pricing-factor stones happen to have IF clarity, deflating their average total price within the “IF” group.\n"
     ]
    }
   ],
   "source": [
    "print(o1_result)"
   ]
  },
  {
   "cell_type": "markdown",
   "id": "6db0251d-1b9f-41ec-90b4-c95dc865971d",
   "metadata": {},
   "source": [
    "## Load and Display an Image from a URL\n",
    "\n",
    "This code retrieves an image from a specified URL and displays it using the **PIL (Pillow) library**."
   ]
  },
  {
   "cell_type": "code",
   "execution_count": null,
   "id": "55475ed3-201f-420c-9903-f80667d14490",
   "metadata": {},
   "outputs": [],
   "source": [
    "from PIL import Image\n",
    "import requests\n",
    "from io import BytesIO\n",
    "\n",
    "image_url = \"https://miro.medium.com/v2/resize:fit:4800/format:webp/1*VPRpf0YnchAwN0mjeAz4pA.jpeg\"\n",
    "response = requests.get(image_url)\n",
    "img = Image.open(BytesIO(response.content))\n",
    "img.show()"
   ]
  },
  {
   "cell_type": "markdown",
   "id": "49be1131-1a04-4e7a-a2cb-1fbee74ae817",
   "metadata": {},
   "source": [
    "## Create an Image Analysis Prompt\n",
    "\n",
    "The following code constructs a **structured prompt** for analyzing an image. It sends both **text input** and an **image URL** to an AI model for interpretation.\n"
   ]
  },
  {
   "cell_type": "code",
   "execution_count": null,
   "id": "bcd4906e-85e1-44d8-b789-d502224f0438",
   "metadata": {},
   "outputs": [],
   "source": [
    "image_prompt = [\n",
    "                    {\"type\": \"text\", \"text\": 'what is wrong with this image?'},\n",
    "                    {\"type\": \"image_url\", \"image_url\": {\n",
    "                        \"url\": image_url}\n",
    "                    }\n",
    "                ]"
   ]
  },
  {
   "cell_type": "code",
   "execution_count": null,
   "id": "c67246b5-cd12-4195-91a3-5b970bd5a244",
   "metadata": {},
   "outputs": [],
   "source": [
    "gpt_result = openai_gpt_help(prompt=image_prompt)"
   ]
  },
  {
   "cell_type": "code",
   "execution_count": null,
   "id": "7a2eed42-879d-4c11-9eb6-d104db8cbe70",
   "metadata": {},
   "outputs": [],
   "source": [
    "display(Markdown(gpt_result))"
   ]
  },
  {
   "cell_type": "code",
   "execution_count": null,
   "id": "54c18ebd-828d-4ca0-b7aa-471ff519dbe2",
   "metadata": {},
   "outputs": [],
   "source": [
    "o1_result = openai_o_help(prompt=image_prompt)"
   ]
  },
  {
   "cell_type": "code",
   "execution_count": null,
   "id": "f492052c-4084-4d7d-af27-ab3cd503ef1a",
   "metadata": {},
   "outputs": [],
   "source": [
    "display(Markdown(o1_result))"
   ]
  },
  {
   "cell_type": "markdown",
   "id": "f392719c-faa6-4438-a5ea-5e8e6d613d90",
   "metadata": {},
   "source": [
    "## References  \n",
    "- **OpenAI Reasoning Models Guide**: [OpenAI](https://platform.openai.com/docs/guides/reasoning)  \n",
    "- **OpenAI Reasoning Models Best Practices Guide**: [OpenAI](https://platform.openai.com/docs/guides/reasoning-best-practices)  \n",
    "- **Colin Jarvis. “Reasoning with O1.” DeepLearning.AI.** Accessed February 14, 2025. [DeepLearning.AI](https://www.deeplearning.ai/short-courses/reasoning-with-o1/)  "
   ]
  }
 ],
 "metadata": {
  "kernelspec": {
   "display_name": "conda_python3",
   "language": "python",
   "name": "conda_python3"
  },
  "language_info": {
   "codemirror_mode": {
    "name": "ipython",
    "version": 3
   },
   "file_extension": ".py",
   "mimetype": "text/x-python",
   "name": "python",
   "nbconvert_exporter": "python",
   "pygments_lexer": "ipython3",
   "version": "3.10.17"
  }
 },
 "nbformat": 4,
 "nbformat_minor": 5
}
