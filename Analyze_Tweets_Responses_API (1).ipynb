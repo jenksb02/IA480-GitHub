{
 "cells": [
  {
   "cell_type": "markdown",
   "id": "86832346-9e59-4811-83ff-04e2e007e515",
   "metadata": {},
   "source": [
    "# OpenAI Responses API: Advanced Tweet Analysis with File & Web Search Integration"
   ]
  },
  {
   "cell_type": "markdown",
   "id": "55ea36b9-4484-4e95-a023-41e475f1af58",
   "metadata": {},
   "source": [
    "## What is the OpenAI Responses API?\n",
    "\n",
    "The Responses API is a new API released in March 2025. It is a combination of the traditional \n",
    "Chat Completions API and the Assistants API, providing support for:\n",
    "\n",
    "- **Traditional Chat Completions:** Facilitates seamless conversational AI experiences.\n",
    "- **Web Search:** Enables real-time information retrieval from the internet.\n",
    "- **File Search:** Allows searching within files for relevant data.\n",
    "\n",
    "Accordingly, the Assistants API will be retired in 2026. \n",
    "\n",
    "> **For new users, OpenAI recommends using the Responses API instead of the Chat Completions API to leverage its expanded capabilities.**\n",
    "\n",
    "For a comprehensive comparison between the Responses API and the Chat Completions API, refer to the official OpenAI documentation: \n",
    "[Responses vs. Chat Completions](https://platform.openai.com/docs/guides/responses-vs-chat-completions)."
   ]
  },
  {
   "cell_type": "markdown",
   "id": "cf3ae0b6-d8f5-4547-be96-bafdf768853c",
   "metadata": {},
   "source": [
    "## Summary of This Notebook\n",
    "This notebook provides a hands-on guide for using the **OpenAI Responses API** to analyze tweets. \n",
    "It covers essential techniques such as:\n",
    "\n",
    "- **Connecting to a MongoDB database** to store and retrieve tweets.\n",
    "- **Extracting tweets** and converting them into a structured format for further analysis.\n",
    "- **Creating a vector store** and uploading tweets for semantic search.\n",
    "- **Using file search** to analyze private datasets.\n",
    "- **Performing web search** to retrieve the latest public information.\n",
    "- **Utilizing stateful responses** to maintain conversation context.\n",
    "- **Combining file and web search** to enhance retrieval-augmented generation (RAG) applications.\n",
    "\n",
    "By the end of this notebook, users will be able to integrate OpenAI's Responses API for efficient data retrieval \n",
    "and analysis of structured and unstructured data."
   ]
  },
  {
   "cell_type": "markdown",
   "id": "adbe454d-ac76-413a-b17c-f79c4873e9df",
   "metadata": {},
   "source": [
    "## Install Required Libraries\n",
    "To use the OpenAI Responses API and interact with a MongoDB database, we need to install the following libraries:\n",
    "\n",
    "- **`openai`**: Provides access to OpenAI's APIs, including the Responses API\n",
    "- **`pymongo`**: A Python driver for MongoDB to store and retrieve tweets."
   ]
  },
  {
   "cell_type": "code",
   "execution_count": 1,
   "id": "6346923a-a409-4621-a6fc-d0f72dccde48",
   "metadata": {},
   "outputs": [
    {
     "name": "stdout",
     "output_type": "stream",
     "text": [
      "Note: you may need to restart the kernel to use updated packages.\n"
     ]
    }
   ],
   "source": [
    "pip install openai pymongo -q"
   ]
  },
  {
   "cell_type": "markdown",
   "id": "b9706b93-af03-4f7a-89bd-6649b11ba83c",
   "metadata": {},
   "source": [
    "## Import Required Libraries"
   ]
  },
  {
   "cell_type": "code",
   "execution_count": 2,
   "id": "9a4f25ea-3dc7-4955-8589-0527ce749a30",
   "metadata": {},
   "outputs": [],
   "source": [
    "from IPython.display import Markdown, display\n",
    "import boto3\n",
    "from botocore.exceptions import ClientError\n",
    "import json\n",
    "import io"
   ]
  },
  {
   "cell_type": "markdown",
   "id": "818d0310-abab-49d2-9d7e-69c92112efd5",
   "metadata": {},
   "source": [
    "## Retrieve Secrets from AWS Secrets Manager"
   ]
  },
  {
   "cell_type": "code",
   "execution_count": 3,
   "id": "28c8e717-0cbb-4125-8a3e-9ea5f1c92180",
   "metadata": {
    "tags": []
   },
   "outputs": [],
   "source": [
    "def get_secret(secret_name):\n",
    "    region_name = \"us-east-1\"\n",
    "\n",
    "    # Create a Secrets Manager client\n",
    "    session = boto3.session.Session()\n",
    "    client = session.client(\n",
    "        service_name='secretsmanager',\n",
    "        region_name=region_name\n",
    "    )\n",
    "\n",
    "    try:\n",
    "        get_secret_value_response = client.get_secret_value(\n",
    "            SecretId=secret_name\n",
    "        )\n",
    "    except ClientError as e:\n",
    "        raise e\n",
    "\n",
    "    secret = get_secret_value_response['SecretString']\n",
    "    \n",
    "    return json.loads(secret)"
   ]
  },
  {
   "cell_type": "markdown",
   "id": "22aeb735-4c86-41fd-8ce7-893c07fad822",
   "metadata": {},
   "source": [
    "## Connect to MongoDB"
   ]
  },
  {
   "cell_type": "code",
   "execution_count": 4,
   "id": "05ac135f-43ea-4499-9aac-224324b9e727",
   "metadata": {
    "tags": []
   },
   "outputs": [],
   "source": [
    "import pymongo\n",
    "from pymongo import MongoClient\n",
    "mongodb_connect = get_secret('mongodb')['connection_string']\n",
    "\n",
    "mongo_client = MongoClient(mongodb_connect)\n",
    "db = mongo_client.demo # use or create a database named demo\n",
    "tweet_collection = db.tweet_collection #use or create a collection named tweet_collection\n",
    "# tweet_collection.create_index([(\"tweet.id\", pymongo.ASCENDING)],unique = True) # make sure the collected tweets are unique"
   ]
  },
  {
   "cell_type": "markdown",
   "id": "c0d9ccee-380a-4484-89e0-c00f8a9db9f7",
   "metadata": {},
   "source": [
    "## Extract Tweets from MongoDB"
   ]
  },
  {
   "cell_type": "code",
   "execution_count": 5,
   "id": "eeb2d39e-603b-4d41-9a23-b4db8dcdad2f",
   "metadata": {
    "tags": []
   },
   "outputs": [],
   "source": [
    "filter={\n",
    "\n",
    "    \n",
    "}\n",
    "project={\n",
    "    'tweet.text': 1,\n",
    "    '_id':0\n",
    "}\n",
    "#rename the client to mongo_client\n",
    "result = mongo_client['demo']['tweet_collection'].find(\n",
    "  filter=filter,\n",
    "  projection=project\n",
    ")"
   ]
  },
  {
   "cell_type": "markdown",
   "id": "c830cf03-025c-4b78-93d8-e57c4890f20d",
   "metadata": {},
   "source": [
    "After retrieving tweets from MongoDB, we convert the query result into a list format for easier processing.\n",
    "The data is then serialized into a JSON-formatted string, ensuring it can be properly stored and shared across different services.\n",
    "Using `io.BytesIO`, we create an in-memory JSON file, eliminating the need for disk writes.\n",
    "This approach is particularly useful for applications that require temporary file storage, such as uploading datasets\n",
    "to OpenAI's file search API or cloud storage for further analysis."
   ]
  },
  {
   "cell_type": "code",
   "execution_count": 6,
   "id": "f7f458f7-2bd9-43f7-9e51-12547473a2ff",
   "metadata": {},
   "outputs": [],
   "source": [
    "result_list = list(result)\n",
    "\n",
    "# Convert result list to JSON string\n",
    "json_data = json.dumps(result_list, default=str, indent=4)\n",
    "\n",
    "# Create an in-memory JSON file\n",
    "json_bytes = io.BytesIO(json_data.encode(\"utf-8\"))\n",
    "json_bytes.name = \"tweet.json\" "
   ]
  },
  {
   "cell_type": "code",
   "execution_count": 7,
   "id": "c7a0713c-4ebb-4cc0-b3e5-e307f9b40a94",
   "metadata": {
    "tags": []
   },
   "outputs": [
    {
     "name": "stdout",
     "output_type": "stream",
     "text": [
      "Number of tweets:  93\n"
     ]
    }
   ],
   "source": [
    "print('Number of tweets: ',len(result_list))"
   ]
  },
  {
   "cell_type": "markdown",
   "id": "69bbd9ff-e0bc-4ec0-9fbc-b2f931defe4e",
   "metadata": {},
   "source": [
    "## Initialize OpenAI Client"
   ]
  },
  {
   "cell_type": "code",
   "execution_count": 8,
   "id": "0ec97cf0-736c-439e-81e4-0d22a7b527bd",
   "metadata": {},
   "outputs": [],
   "source": [
    "from openai import OpenAI\n",
    "openai_api_key  = get_secret('openai')['api_key']\n",
    "\n",
    "client = OpenAI(api_key=openai_api_key)"
   ]
  },
  {
   "cell_type": "markdown",
   "id": "7ef03684-10fa-433c-a9ff-5f322fd215c3",
   "metadata": {},
   "source": [
    "## File Search API\n",
    "\n",
    "### Introduction to File Search\n",
    "File search API enables efficient retrieval of relevant information \n",
    "from uploaded files by leveraging vector-based indexing. This feature is particularly useful \n",
    "for searching large datasets, extracting insights, and improving retrieval-augmented generation (RAG) applications.\n",
    "\n",
    "Unlike traditional keyword-based searches, the Responses API uses embeddings \n",
    "to identify semantically relevant content, making it ideal for analyzing structured \n",
    "and unstructured text data (OpenAI, 2025).\n",
    "\n",
    "For more details, visit the official OpenAI documentation: \n",
    "[File Search in Responses API](https://platform.openai.com/docs/guides/tools-file-search)."
   ]
  },
  {
   "cell_type": "markdown",
   "id": "12034ce9-04cc-4f03-8573-9328f05c3735",
   "metadata": {},
   "source": [
    "### Create a Vector Store"
   ]
  },
  {
   "cell_type": "code",
   "execution_count": 9,
   "id": "a2e24f19-be80-429e-8a9a-ece1da9a4ef9",
   "metadata": {},
   "outputs": [],
   "source": [
    "vector_store = client.vector_stores.create(\n",
    "    name=\"tweet_base\"\n",
    ")\n",
    "vector_store_id = vector_store.id\n",
    "# print(vector_store_id)"
   ]
  },
  {
   "cell_type": "markdown",
   "id": "1e80e5ee-4317-4317-8e46-493c3f5d2e95",
   "metadata": {},
   "source": [
    "### Upload Tweets File"
   ]
  },
  {
   "cell_type": "code",
   "execution_count": 10,
   "id": "596ecef7-0b1a-4cbe-8e47-f7e13d6d6150",
   "metadata": {},
   "outputs": [],
   "source": [
    "file = client.files.create(\n",
    "            file=json_bytes,\n",
    "            purpose=\"assistants\",)\n",
    "\n",
    "file_id = file.id\n",
    "# print(file_id)"
   ]
  },
  {
   "cell_type": "markdown",
   "id": "b0a4c9ed-7b16-4178-914e-a4436b6d2971",
   "metadata": {},
   "source": [
    "### Attach File to Vector Store"
   ]
  },
  {
   "cell_type": "code",
   "execution_count": 11,
   "id": "15874314-ed04-4315-85cc-e9ce4eee9d73",
   "metadata": {},
   "outputs": [],
   "source": [
    "attach_status =client.vector_stores.files.create(\n",
    "    vector_store_id=vector_store_id,\n",
    "    file_id=file_id\n",
    "            )\n",
    "\n",
    "# print(attach_status.id)"
   ]
  },
  {
   "cell_type": "markdown",
   "id": "091a9cf3-a802-41a1-9707-e04ee1bdfd8f",
   "metadata": {},
   "source": [
    "### Query the Vector Store"
   ]
  },
  {
   "cell_type": "code",
   "execution_count": 12,
   "id": "cf3753c0-b763-403d-be6a-368d80f6714a",
   "metadata": {},
   "outputs": [],
   "source": [
    "query = \"the latest development in genai\""
   ]
  },
  {
   "cell_type": "code",
   "execution_count": 13,
   "id": "c757b4d8-d603-4b01-a610-978b9cfa5010",
   "metadata": {},
   "outputs": [
    {
     "name": "stdout",
     "output_type": "stream",
     "text": [
      "}\n",
      "    },\n",
      "    {\n",
      "        \"tweet\": {\n",
      "            \"text\": \"@nic__carter @d_fins I think you misinterpret\n",
      " Relevant score: 0.5027333234019439\n",
      "co/Sn9VghMMOp #GenerativeAI #GenAI #AI\"\n",
      "        }\n",
      "    },\n",
      "    {\n",
      "        \"tweet\": {\n",
      "            \"text\"\n",
      " Relevant score: 0.44602316930394487\n",
      "}\n",
      "    },\n",
      "    {\n",
      "        \"tweet\": {\n",
      "            \"text\": \"@GainsAssociates @Brcevik @Gamenessapp How wi\n",
      " Relevant score: 0.44541319204336244\n",
      "Here\\u2019s the difference:\\n\\ud83d\\udd39 Generative LLM \\u2013 Focused on generating text. (e.g. GP\n",
      " Relevant score: 0.43621670349887304\n",
      "{\n",
      "        \"tweet\": {\n",
      "            \"text\": \"@0wlboom @LeQuacked @Rythayze thats not the point. like AT\n",
      " Relevant score: 0.4241516494826711\n"
     ]
    }
   ],
   "source": [
    "search_results = client.vector_stores.search(\n",
    "    vector_store_id=vector_store_id,\n",
    "    query=query\n",
    ")\n",
    "\n",
    "for result in search_results.data[:5]:\n",
    "    print(result.content[0].text[:100] + '\\n Relevant score: ' + str(result.score))"
   ]
  },
  {
   "cell_type": "markdown",
   "id": "77d89abc-a919-4563-9f06-8dfc9410a4ab",
   "metadata": {},
   "source": [
    "## OpenAI Response API"
   ]
  },
  {
   "cell_type": "markdown",
   "id": "6ee1ecaa-6836-41d5-847e-853b62bcdd0b",
   "metadata": {},
   "source": [
    "### Simple Response"
   ]
  },
  {
   "cell_type": "code",
   "execution_count": 14,
   "id": "7e96e622-9b8c-47d5-9a4a-3c3e6315b2b2",
   "metadata": {},
   "outputs": [],
   "source": [
    "simple_response = client.responses.create(\n",
    "  model=\"gpt-4o\",\n",
    "  input=[\n",
    "      {\n",
    "          \"role\": \"user\",\n",
    "          \"content\": query\n",
    "      }\n",
    "  ]\n",
    ")"
   ]
  },
  {
   "cell_type": "code",
   "execution_count": 15,
   "id": "c1c7e17d-a20d-40e2-b1bc-ee30f9199627",
   "metadata": {},
   "outputs": [
    {
     "data": {
      "text/markdown": [
       "As of the latest updates, generative AI continues to advance rapidly across several areas:\n",
       "\n",
       "1. **Text and Language Models**: Models like GPT-3.5 and successors have seen improvements in language understanding and generation. These models are being used for a variety of applications, including content creation, customer service, and advanced data analysis.\n",
       "\n",
       "2. **Image and Video Generation**: Tools such as DALL-E and Midjourney have made strides in generating high-quality images and videos from text descriptions. This is revolutionizing fields like design, media, and entertainment.\n",
       "\n",
       "3. **Multimodal Models**: Models capable of handling and integrating multiple types of data (text, images, audio) are becoming more proficient, offering more versatile AI solutions that can understand and generate content across different media types.\n",
       "\n",
       "4. **Ethics and Safety Enhancements**: With the expanding capabilities of generative AI, there is increased focus on ethical use, bias reduction, and enhancing safety measures to ensure responsible deployment.\n",
       "\n",
       "5. **Real-time Applications**: Generative AI is being incorporated into real-time applications, such as dynamic content generation in video games and interactive media, offering more personalized user experiences.\n",
       "\n",
       "6. **Industry Integration**: Various industries, including healthcare, finance, and marketing, are leveraging generative AI for innovative solutions, such as personalized medicine, financial modeling, and targeted advertising.\n",
       "\n",
       "Overall, generative AI is becoming more integrated into everyday technologies, driving innovation while raising important discussions about regulation and social impact."
      ],
      "text/plain": [
       "<IPython.core.display.Markdown object>"
      ]
     },
     "metadata": {},
     "output_type": "display_data"
    }
   ],
   "source": [
    "display(Markdown(simple_response.output_text))"
   ]
  },
  {
   "cell_type": "markdown",
   "id": "7b468693-2250-4b09-994e-2eb52b1d5741",
   "metadata": {},
   "source": [
    "### File Search Response"
   ]
  },
  {
   "cell_type": "code",
   "execution_count": 16,
   "id": "b4061d68-56f6-4dfc-974c-b2446ad79ecf",
   "metadata": {},
   "outputs": [],
   "source": [
    "\n",
    "file_search_response = client.responses.create(\n",
    "    input= query,\n",
    "    model=\"gpt-4o\",\n",
    "    temperature = 0,\n",
    "    tools=[{\n",
    "        \"type\": \"file_search\",\n",
    "        \"vector_store_ids\": [vector_store_id],\n",
    "    }]\n",
    ")"
   ]
  },
  {
   "cell_type": "code",
   "execution_count": 17,
   "id": "5d448b96-b931-4af8-bd71-1f8facd44ffa",
   "metadata": {},
   "outputs": [
    {
     "data": {
      "text/markdown": [
       "Recent developments in generative AI include advancements in multimodal models, which can understand and generate text, images, and more. Examples include GPT-4 and Gemini. Additionally, there is a growing focus on integrating generative AI into various industries, such as healthcare and marketing, to drive innovation and efficiency.\n",
       "\n",
       "There is also a shift towards cognitive AI, which emphasizes collaboration and strategic thinking beyond simple prompting. Furthermore, the use of generative AI in creative fields, like art and music, continues to spark debate regarding originality and ethical practices."
      ],
      "text/plain": [
       "<IPython.core.display.Markdown object>"
      ]
     },
     "metadata": {},
     "output_type": "display_data"
    }
   ],
   "source": [
    "display(Markdown(file_search_response.output_text))\n"
   ]
  },
  {
   "cell_type": "markdown",
   "id": "7ddd7ddc-64d0-49dc-a0f7-c24a4a1b8c31",
   "metadata": {},
   "source": [
    "## Web Search API\n",
    "\n",
    "### Introduction to Web Search\n",
    "The OpenAI Web Search tool allows models to retrieve real-time information from the internet. \n",
    "This capability is particularly useful for obtaining up-to-date data, fact-checking, and expanding knowledge \n",
    "without relying solely on pre-trained information. \n",
    "\n",
    "By leveraging OpenAI's web search functionality, the Responses API can fetch external data \n",
    "and provide accurate, relevant results in real time (OpenAI, 2025). \n",
    "This feature enhances applications that require the latest insights, such as news aggregation, research, \n",
    "or dynamic content generation.\n",
    "\n",
    "For more details, visit the official OpenAI documentation: \n",
    "[Web Search in Responses API](https://platform.openai.com/docs/guides/tools-web-search)."
   ]
  },
  {
   "cell_type": "markdown",
   "id": "38f2bc7e-9a56-4695-8148-915d875ad716",
   "metadata": {},
   "source": [
    "### Perform Web Search"
   ]
  },
  {
   "cell_type": "code",
   "execution_count": 18,
   "id": "455aae40-d752-4e05-b8b6-da213e9b1f65",
   "metadata": {},
   "outputs": [],
   "source": [
    "web_search_response = client.responses.create(\n",
    "    model=\"gpt-4o\",  # or another supported model\n",
    "    input= query,\n",
    "    tools=[\n",
    "        {\n",
    "            \"type\": \"web_search\"\n",
    "        }\n",
    "    ]\n",
    ")"
   ]
  },
  {
   "cell_type": "code",
   "execution_count": 19,
   "id": "e1f5d2c4-f2fb-4261-bc7e-f5b5924f9959",
   "metadata": {},
   "outputs": [
    {
     "data": {
      "text/markdown": [
       "Generative AI (GenAI) has experienced significant advancements across various sectors, leading to innovative applications and strategic developments. Here are some of the latest developments:\n",
       "\n",
       "**Business Applications and Collaborations**\n",
       "\n",
       "- **Google's AI Integration**: At its Cloud Next conference, Google showcased practical business applications of its AI technology. Collaborations include Mattel's use of Google's BigQuery AI tool to analyze feedback on the Barbie Dreamhouse, demonstrating AI's role in enhancing decision-making processes. ([axios.com](https://www.axios.com/2025/04/09/google-ai-mattel-barbie?utm_source=openai))\n",
       "\n",
       "- **Amazon's Alexa Transformation**: Amazon is revamping its Alexa digital assistant by integrating generative AI, aiming to evolve it into a personalized concierge capable of performing a wide range of tasks. This transformation focuses on enhancing user experience and functionality. ([ft.com](https://www.ft.com/content/de4c86b8-c744-4051-9255-d34259223160?utm_source=openai))\n",
       "\n",
       "**Technological Innovations**\n",
       "\n",
       "- **Nvidia's AI Hardware and Models**: At the GTC 2025 event, Nvidia introduced several innovations, including the Blackwell Ultra AI chips and the Groot N1 AI model for robotics. These developments emphasize Nvidia's commitment to advancing AI hardware and software capabilities. ([tomsguide.com](https://www.tomsguide.com/computing/live/nvidia-gtc-2025-live?utm_source=openai))\n",
       "\n",
       "- **Tencent's 3D Generation Tools**: Tencent released open-source AI tools capable of converting text and images into 3D visuals. The Hunyuan3D-2.0 technology enables the generation of high-quality 3D visuals in just 30 seconds, catering to designers and game developers. ([reuters.com](https://www.reuters.com/technology/artificial-intelligence/tencent-expands-ai-push-with-open-source-3d-generation-tools-2025-03-18/?utm_source=openai))\n",
       "\n",
       "**Advancements in AI Models**\n",
       "\n",
       "- **Google DeepMind's Gemini**: In December 2023, Google DeepMind launched Gemini, a multimodal large language model succeeding LaMDA and PaLM 2. Gemini 2.5, released in March 2025, introduced enhanced reasoning capabilities, marking a significant step toward more sophisticated AI interactions. ([en.wikipedia.org](https://en.wikipedia.org/wiki/Google_DeepMind?utm_source=openai))\n",
       "\n",
       "**Regulatory Developments**\n",
       "\n",
       "- **Global AI Regulations**: Governments worldwide are implementing regulations to manage AI development. In the U.S., companies like OpenAI and Google agreed to watermark AI-generated content. The European Union's proposed Artificial Intelligence Act includes requirements for disclosing copyrighted material used in training AI systems. ([en.wikipedia.org](https://en.wikipedia.org/wiki/Generative_artificial_intelligence?utm_source=openai))\n",
       "\n",
       "**Research and Ethical Considerations**\n",
       "\n",
       "- **Advancements in Generative AI Research**: Recent research focuses on techniques such as Diffusion Models and Denoising Score Matching, aiming to improve the quality and efficiency of AI-generated content. Ethical considerations, including bias mitigation and data privacy, remain central to ongoing discussions. ([indiaai.gov.in](https://indiaai.gov.in/article/cutting-edge-developments-in-generative-ai-new-frontiers-amp-practical-implications?utm_source=openai))\n",
       "\n",
       "\n",
       "## Recent Developments in Generative AI:\n",
       "- [Google touts AI's real-world business model](https://www.axios.com/2025/04/09/google-ai-mattel-barbie?utm_source=openai)\n",
       "- [Nvidia GTC 2025 - Blackwell Ultra, Groot N1, self-driving cars and more from Jensen Huang's keynote](https://www.tomsguide.com/computing/live/nvidia-gtc-2025-live?utm_source=openai)\n",
       "- [Tencent expands AI push with open-source 3D generation tools](https://www.reuters.com/technology/artificial-intelligence/tencent-expands-ai-push-with-open-source-3d-generation-tools-2025-03-18/?utm_source=openai) "
      ],
      "text/plain": [
       "<IPython.core.display.Markdown object>"
      ]
     },
     "metadata": {},
     "output_type": "display_data"
    }
   ],
   "source": [
    "display(Markdown(web_search_response.output_text))"
   ]
  },
  {
   "cell_type": "markdown",
   "id": "a85df607-d638-4d58-99a8-99a6cfe2d7e8",
   "metadata": {},
   "source": [
    "### Stateful Response\n",
    "\n",
    "The OpenAI Responses API includes a stateful feature that enables continuity in interactions. \n",
    "By using the `response_id`, a conversation can persist across multiple queries, \n",
    "allowing users to refine or expand upon previous searches. This is particularly useful for iterative research, \n",
    "dynamic content generation, and applications that require follow-up queries based on prior responses."
   ]
  },
  {
   "cell_type": "code",
   "execution_count": 20,
   "id": "8b3e83a4-3437-4e9f-9732-748a35ccd43f",
   "metadata": {},
   "outputs": [
    {
     "data": {
      "text/markdown": [
       "Generative AI (GenAI) has experienced significant advancements across various sectors, leading to in"
      ],
      "text/plain": [
       "<IPython.core.display.Markdown object>"
      ]
     },
     "metadata": {},
     "output_type": "display_data"
    }
   ],
   "source": [
    "fetched_response = client.responses.retrieve(response_id=web_search_response.id)\n",
    "display(Markdown(fetched_response.output_text[:100]))"
   ]
  },
  {
   "cell_type": "markdown",
   "id": "bb2ca4d4-b2f7-4cd2-94b6-a0d2aec179cb",
   "metadata": {},
   "source": [
    "### Continue Query with Web Search"
   ]
  },
  {
   "cell_type": "code",
   "execution_count": 21,
   "id": "b348e31e-3aea-4656-b86e-b0f62ef9c697",
   "metadata": {},
   "outputs": [],
   "source": [
    "continue_query = 'find different news'\n",
    "\n",
    "continue_search_response = client.responses.create(\n",
    "    model=\"gpt-4o\",  # or another supported model\n",
    "    input= continue_query,\n",
    "    previous_response_id=web_search_response.id,\n",
    "    tools=[\n",
    "        {\n",
    "            \"type\": \"web_search\"\n",
    "        }\n",
    "    ]\n",
    ")"
   ]
  },
  {
   "cell_type": "code",
   "execution_count": 22,
   "id": "e3ecd050-c5e3-44ca-869b-657e90aca446",
   "metadata": {},
   "outputs": [
    {
     "data": {
      "text/markdown": [
       "Certainly, here are some recent developments in the field of Generative AI:\n",
       "\n",
       "**Advancements in AI Models**\n",
       "\n",
       "- **Anthropic's Claude 3**: In March 2024, Anthropic introduced Claude 3, a family of multimodal generative AI models capable of processing both text and images. The suite includes three models—Haiku, Sonnet, and Opus—each varying in size and efficiency. ([analyticsvidhya.com](https://www.analyticsvidhya.com/blog/2024/12/generative-ai-developments/?utm_source=openai))\n",
       "\n",
       "- **Meta's LLaMA 3**: In April 2024, Meta released LLaMA 3, its third-generation open-source large language model, available in 8B and 70B parameter sizes. Trained on approximately 15 trillion tokens from publicly available sources, LLaMA 3 demonstrated superior performance in coding, reasoning, and multilingual tasks. ([analyticsvidhya.com](https://www.analyticsvidhya.com/blog/2024/12/generative-ai-developments/?utm_source=openai))\n",
       "\n",
       "**Integration of AI in Consumer Technology**\n",
       "\n",
       "- **Apple's Apple Intelligence**: In June 2024, Apple announced the launch of Apple Intelligence as part of the iOS 18.1 update, bringing AI-powered features to iPhones. This includes ChatGPT integration in Siri, visual intelligence, and generative AI-powered photo editing features. ([analyticsvidhya.com](https://www.analyticsvidhya.com/blog/2024/12/generative-ai-developments/?utm_source=openai))\n",
       "\n",
       "**AI in Healthcare**\n",
       "\n",
       "- **Generative AI in Medical Imaging**: Generative AI platforms have significantly enhanced medical imaging analysis, particularly in radiology. AI algorithms can analyze MRI scans, X-rays, and CT scans with unprecedented accuracy, detecting subtle anomalies and assisting radiologists in making faster and more accurate diagnoses. ([medium.com](https://medium.com/%40AIreporter/recent-developments-in-generative-ai-platforms-for-healthcare-advancements-shaping-the-future-40e077ec2ed1?utm_source=openai))\n",
       "\n",
       "**Industry Collaborations and Tools**\n",
       "\n",
       "- **Google's Code Assist**: Google introduced Code Assist to enhance coding efficiency, leveraging the Gemini 1.5 Pro model. With a record 1 million-token context window, Code Assist provides unprecedented AI-powered code comprehension and transformation capabilities, setting a new industry standard. ([generativeaiassociation.org](https://generativeaiassociation.org/articles/game-changing-advances-in-generative-ai-a-roundup-of-key-innovations/?utm_source=openai))\n",
       "\n",
       "\n",
       "## Recent Developments in Generative AI:\n",
       "- [In 2024, artificial intelligence was all about putting AI tools to work](https://apnews.com/article/0b6ab89193265c3f60f382bae9bbabc9?utm_source=openai)\n",
       "- [Nvidia GTC 2025 - Blackwell Ultra, Groot N1, self-driving cars and more from Jensen Huang's keynote](https://www.tomsguide.com/computing/live/nvidia-gtc-2025-live?utm_source=openai)\n",
       "- [Tencent expands AI push with open-source 3D generation tools](https://www.reuters.com/technology/artificial-intelligence/tencent-expands-ai-push-with-open-source-3d-generation-tools-2025-03-18/?utm_source=openai) "
      ],
      "text/plain": [
       "<IPython.core.display.Markdown object>"
      ]
     },
     "metadata": {},
     "output_type": "display_data"
    }
   ],
   "source": [
    "display(Markdown(continue_search_response.output_text))"
   ]
  },
  {
   "cell_type": "markdown",
   "id": "132125be-48d9-4596-9dc5-bc12dca5fdbf",
   "metadata": {},
   "source": [
    "### Combining File Search and Web Search\n",
    "\n",
    "This is an example of using file search to analyze private data and web search to retrieve public or the latest data. \n",
    "The Responses API allows developers to integrate these tools to enhance retrieval-augmented generation (RAG) applications. \n",
    "By combining file search with web search, users can leverage structured internal knowledge while also retrieving real-time \n",
    "information from external sources, ensuring comprehensive and up-to-date responses. "
   ]
  },
  {
   "cell_type": "code",
   "execution_count": 23,
   "id": "6344e43c-8aa4-4693-aaf6-20f09f416364",
   "metadata": {},
   "outputs": [],
   "source": [
    "combined_search_response = client.responses.create(\n",
    "    model=\"gpt-4o\",  # or another supported model\n",
    "    input= query,\n",
    "    temperature = 0,\n",
    "    instructions=\"Retrieve the results from the file search first, and use the web search tool to expand the results with news resources\",\n",
    "    tools=[{\n",
    "        \"type\": \"file_search\",\n",
    "        \"vector_store_ids\": [vector_store_id],\n",
    "    },\n",
    "        {\n",
    "            \"type\": \"web_search\"\n",
    "        }\n",
    "    ]\n",
    ")"
   ]
  },
  {
   "cell_type": "code",
   "execution_count": 24,
   "id": "a09ee0a6-3b50-43a3-a63b-3c765da85561",
   "metadata": {},
   "outputs": [
    {
     "data": {
      "text/markdown": [
       "Recent developments in generative AI include several key advancements and initiatives:\n",
       "\n",
       "1. **Enterprise Platforms**: Quantiphi's generative AI platform, Baioniq, has been recognized for its excellence, indicating a focus on enterprise-ready solutions.\n",
       "\n",
       "2. **Collaborations**: Clario is working with AWS to enhance clinical data analysis using generative AI, showcasing the integration of AI in healthcare.\n",
       "\n",
       "3. **Competitions and Events**: Dubai AI Week 2025 is set to host a major generative AI championship, highlighting the growing interest and investment in AI competitions.\n",
       "\n",
       "4. **Technological Advancements**: AMD has introduced Amuse 3.0, a generative AI model developed in collaboration with StabilityAI, emphasizing improvements in speed and performance.\n",
       "\n",
       "5. **Regulatory Discussions**: There is an ongoing call for the development of local laws to govern generative AI, reflecting the need for regulatory frameworks.\n",
       "\n",
       "6. **Industry Applications**: Generative AI is being used to drive sales and growth in healthcare and pharma, as demonstrated by MASORI Therapeutics.\n",
       "\n",
       "These developments illustrate the diverse applications and rapid evolution of generative AI across different sectors."
      ],
      "text/plain": [
       "<IPython.core.display.Markdown object>"
      ]
     },
     "metadata": {},
     "output_type": "display_data"
    }
   ],
   "source": [
    "display(Markdown(combined_search_response.output_text))"
   ]
  },
  {
   "cell_type": "code",
   "execution_count": null,
   "id": "2c7e552a-315a-44e2-bdcb-945a9d2a108e",
   "metadata": {},
   "outputs": [],
   "source": []
  }
 ],
 "metadata": {
  "kernelspec": {
   "display_name": "conda_python3",
   "language": "python",
   "name": "conda_python3"
  },
  "language_info": {
   "codemirror_mode": {
    "name": "ipython",
    "version": 3
   },
   "file_extension": ".py",
   "mimetype": "text/x-python",
   "name": "python",
   "nbconvert_exporter": "python",
   "pygments_lexer": "ipython3",
   "version": "3.10.16"
  }
 },
 "nbformat": 4,
 "nbformat_minor": 5
}
